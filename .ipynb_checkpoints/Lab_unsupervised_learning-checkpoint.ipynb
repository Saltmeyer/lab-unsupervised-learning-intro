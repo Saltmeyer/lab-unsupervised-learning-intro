{
 "cells": [
  {
   "cell_type": "code",
   "execution_count": 1,
   "id": "10102d16",
   "metadata": {},
   "outputs": [],
   "source": [
    "import requests\n",
    "import pandas as pd\n",
    "import random"
   ]
  },
  {
   "cell_type": "code",
   "execution_count": 3,
   "id": "6279b552",
   "metadata": {},
   "outputs": [],
   "source": [
    "top100 = pd.read_csv('Top100_songs.csv')"
   ]
  },
  {
   "cell_type": "code",
   "execution_count": 4,
   "id": "0cd6cdce",
   "metadata": {},
   "outputs": [],
   "source": [
    "songs = pd.read_csv('songs_collection.csv')"
   ]
  },
  {
   "cell_type": "markdown",
   "id": "aaf23906",
   "metadata": {},
   "source": [
    "## Song Recommender"
   ]
  },
  {
   "cell_type": "code",
   "execution_count": null,
   "id": "dcc075aa",
   "metadata": {},
   "outputs": [],
   "source": [
    "song_choice = input('Please enter a song name: ')\n",
    "if top100.song.isin([song_choice]).any:\n",
    "    yoursong = top100.sample(n=1)\n",
    "    print('We recommend: ' + yoursong['song'].values[0] + ' by ' +  yoursong['artist'].values[0])\n",
    "else: \n",
    "    print('Sorry, no recommendation available')"
   ]
  },
  {
   "cell_type": "code",
   "execution_count": null,
   "id": "08ed21e6",
   "metadata": {},
   "outputs": [],
   "source": [
    "X_prep = StandardScaler().fit_transform(X_wine)\n",
    "\n",
    "# Now, all features will have the same weight.\n",
    "pd.DataFrame(X_prep,columns=X_wine.columns).head()"
   ]
  },
  {
   "cell_type": "code",
   "execution_count": null,
   "id": "a1ec1c2d",
   "metadata": {},
   "outputs": [],
   "source": []
  }
 ],
 "metadata": {
  "kernelspec": {
   "display_name": "Python 3",
   "language": "python",
   "name": "python3"
  },
  "language_info": {
   "codemirror_mode": {
    "name": "ipython",
    "version": 3
   },
   "file_extension": ".py",
   "mimetype": "text/x-python",
   "name": "python",
   "nbconvert_exporter": "python",
   "pygments_lexer": "ipython3",
   "version": "3.8.8"
  }
 },
 "nbformat": 4,
 "nbformat_minor": 5
}
