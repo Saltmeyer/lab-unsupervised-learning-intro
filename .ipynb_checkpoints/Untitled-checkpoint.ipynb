{
 "cells": [
  {
   "cell_type": "code",
   "execution_count": 1,
   "id": "2a58440e",
   "metadata": {},
   "outputs": [],
   "source": [
    "from bs4 import BeautifulSoup\n",
    "import requests\n",
    "import pandas as pd\n",
    "import random"
   ]
  },
  {
   "cell_type": "code",
   "execution_count": 3,
   "id": "8486d51c",
   "metadata": {},
   "outputs": [],
   "source": [
    "top100 = pd.read_csv('Top100_songs.csv')"
   ]
  },
  {
   "cell_type": "code",
   "execution_count": null,
   "id": "3eacc4a6",
   "metadata": {},
   "outputs": [],
   "source": []
  },
  {
   "cell_type": "markdown",
   "id": "1860d5d1",
   "metadata": {},
   "source": [
    "## Song Recommender"
   ]
  },
  {
   "cell_type": "code",
   "execution_count": null,
   "id": "32bcca8f",
   "metadata": {},
   "outputs": [],
   "source": [
    "song_choice = input('Please enter a song name: ')\n",
    "if top100.song.isin([song_choice]).any:\n",
    "    yoursong = top100.sample(n=1)\n",
    "    print('We recommend: ' + yoursong['song'].values[0] + ' by ' +  yoursong['artist'].values[0])\n",
    "else: \n",
    "    print('Sorry, no recommendation available')"
   ]
  }
 ],
 "metadata": {
  "kernelspec": {
   "display_name": "Python 3",
   "language": "python",
   "name": "python3"
  },
  "language_info": {
   "codemirror_mode": {
    "name": "ipython",
    "version": 3
   },
   "file_extension": ".py",
   "mimetype": "text/x-python",
   "name": "python",
   "nbconvert_exporter": "python",
   "pygments_lexer": "ipython3",
   "version": "3.8.8"
  }
 },
 "nbformat": 4,
 "nbformat_minor": 5
}
