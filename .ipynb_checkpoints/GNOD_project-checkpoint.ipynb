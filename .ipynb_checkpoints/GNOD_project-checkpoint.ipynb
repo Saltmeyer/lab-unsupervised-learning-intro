{
 "cells": [
  {
   "cell_type": "markdown",
   "id": "5fe2361b",
   "metadata": {},
   "source": [
    "## GNOD Music Recommender"
   ]
  },
  {
   "cell_type": "code",
   "execution_count": null,
   "id": "eeab0fb4",
   "metadata": {},
   "outputs": [],
   "source": [
    "- Songs that are actually similar to the ones they picked from an acoustic point of view.\n",
    "- Songs that are popular around the world right now, independently from their tastes.\n",
    "\n",
    "\n"
   ]
  },
  {
   "cell_type": "code",
   "execution_count": 38,
   "id": "4766e981",
   "metadata": {},
   "outputs": [],
   "source": [
    "from bs4 import BeautifulSoup\n",
    "import requests\n",
    "import pandas as pd\n",
    "import random"
   ]
  },
  {
   "cell_type": "markdown",
   "id": "16884e0a",
   "metadata": {},
   "source": [
    "## Getting the Top 100 list and creating a dataframe"
   ]
  },
  {
   "cell_type": "code",
   "execution_count": 2,
   "id": "5591dd4a",
   "metadata": {},
   "outputs": [],
   "source": [
    "url = \"http://www.popvortex.com/music/netherlands/top-songs.php\""
   ]
  },
  {
   "cell_type": "code",
   "execution_count": 3,
   "id": "e1fdee90",
   "metadata": {},
   "outputs": [
    {
     "data": {
      "text/plain": [
       "200"
      ]
     },
     "execution_count": 3,
     "metadata": {},
     "output_type": "execute_result"
    }
   ],
   "source": [
    "response = requests.get(url)\n",
    "response.status_code"
   ]
  },
  {
   "cell_type": "code",
   "execution_count": 4,
   "id": "2b543294",
   "metadata": {},
   "outputs": [],
   "source": [
    "soup = BeautifulSoup(response.content, \"html.parser\")"
   ]
  },
  {
   "cell_type": "code",
   "execution_count": 5,
   "id": "10e5e270",
   "metadata": {},
   "outputs": [
    {
     "data": {
      "text/plain": [
       "[<cite class=\"title\">Cold Heart (PNAU Remix)</cite>]"
      ]
     },
     "execution_count": 5,
     "metadata": {},
     "output_type": "execute_result"
    }
   ],
   "source": [
    "soup.select('#chart-position-1 > div.chart-content.col-xs-12.col-sm-8 > p > cite')"
   ]
  },
  {
   "cell_type": "code",
   "execution_count": 6,
   "id": "0d863b58",
   "metadata": {},
   "outputs": [
    {
     "data": {
      "text/plain": [
       "'Easy On Me'"
      ]
     },
     "execution_count": 6,
     "metadata": {},
     "output_type": "execute_result"
    }
   ],
   "source": [
    "soup.select('p > cite')[1].get_text()"
   ]
  },
  {
   "cell_type": "code",
   "execution_count": 7,
   "id": "c465a535",
   "metadata": {},
   "outputs": [
    {
     "name": "stdout",
     "output_type": "stream",
     "text": [
      "['Cold Heart (PNAU Remix)', 'Easy On Me', 'Schiddi Widdi Witt', 'Do It To It (feat. Cherish)', 'Ons Moeder Zeej Nog', 'Only You', 'Dat Heb Jij Gedaan', 'Coming Home With Santa', 'The Motto', 'Misschien Huil Ik Niet Hard Genoeg', 'Ja Wie Niet Springt (Die Moet Betalen)', 'Christmas On My Doorstep', \"Non Stop Vol D'r Op\", 'Hold On', 'All I Want For Christmas Is You', 'Ik Ga Zwemmen', 'Thunder', 'Amsterdam', 'Baby Lekker Ding', 'Everybody Needs Somebody To Love', 'Mañana', 'Where Are You Now', 'To Be Loved', 'Wij Gaan Door', 'My Universe', 'Alle Remmen Los', 'Can I Get It', \"Don't Break the Heart\", 'Little Bit of Love', 'In De Nacht', 'Specularisatie', 'When We Were Young', 'Mercy', 'Pepas', 'Bad Habits', 'Shivers', 'Moth To A Flame', \"Tot Over M'n Oren\", 'STAY', 'Overpass Graffiti', 'Nooit Meer Alcohol', 'Have I Told You Lately', 'We Are the People (feat. Bono & The Edge)', 'Better Days', 'Dopamine (feat. Eyelar)', 'I Drink Wine', 'Soundgasm', 'Ik Ben Kachel', 'The Haves', 'Strangers By Nature', 'Goodbye Ciao Ciao', 'I AM WOMAN', 'Enemy (From the series \"Arcane League of Legends\")', 'We Made It (Extended Mix)', 'Hallow Fate', 'Substitution', 'Common Yellowthroat', 'Dans Met Me', 'Goodbye - Cinematic Version (from Arcane League of Legends) (feat. Sorah)', 'Jetpack (feat. ibbigang & Valter)', 'Cheers', 'Vanilla', 'Povedz to nahlas!', 'RAPINBOX Vol.1', 'Palauk Manęs', 'If I Said', 'Let it Go (Extended Mix)', 'Tranquilo', 'Watching the Waves (Extended Mix)', 'mesec (feat. DVN)', 'The Greater Light to Rule the Night', 'Hawaii', 'Sylvia (Remastered)', 'Teşekkürler Öğretmenim - Öğretmenler Günü Şarkısı', 'Bleed for This', 'Jij Bent Mijn Lieveling', 'Sweetie', 'Andamento', 'Não É Mais Segredo (feat. Gabriel Iglesias)', 'Nutcracker Suite 8 - Waltz of the Flowers - Tchaikovsky', '1 Rebel (feat. MC UD)', 'Across the Border', 'Antidote', 'Nyoka Musango', 'A Strong Intelligent Woman', 'I Follow Rivers (Live @ Giel! - Vara/3fm)', 'Skyfall', 'Dat Ik Je Mis', 'Happiness', 'Rolling In the Deep', 'Waka Waka (This Time for Africa) [The Official 2010 FIFA World Cup (TM) Song] [feat. Freshlyground]', 'Ik Neem Je Mee (Instrumental Version)', 'Balada', 'All of Me', 'More (From The Voice of Holland)', 'This Is What It Feels Like (feat. Trevor Guthrie)', 'Papaoutai', 'Just Give Me a Reason (feat. Nate Ruess)', 'Beauty & de Brains', 'Someone Like You']\n"
     ]
    }
   ],
   "source": [
    "song = []\n",
    "\n",
    "num_iter = len(soup.select('p > cite'))\n",
    "\n",
    "for i in range(num_iter):\n",
    "    song.append(soup.select('p > cite')[i].get_text())\n",
    "    \n",
    "print(song)\n",
    "\n",
    "top100_song = pd.DataFrame({'song':song})"
   ]
  },
  {
   "cell_type": "code",
   "execution_count": 8,
   "id": "dd4c70dc",
   "metadata": {},
   "outputs": [
    {
     "data": {
      "text/plain": [
       "[<em class=\"artist\">Elton John &amp; Dua Lipa</em>]"
      ]
     },
     "execution_count": 8,
     "metadata": {},
     "output_type": "execute_result"
    }
   ],
   "source": [
    "soup.select('#chart-position-1 > div.chart-content.col-xs-12.col-sm-8 > p > em')"
   ]
  },
  {
   "cell_type": "code",
   "execution_count": 9,
   "id": "d2cb0b45",
   "metadata": {},
   "outputs": [
    {
     "data": {
      "text/plain": [
       "'Adele'"
      ]
     },
     "execution_count": 9,
     "metadata": {},
     "output_type": "execute_result"
    }
   ],
   "source": [
    "soup.select('p > em')[1].get_text()"
   ]
  },
  {
   "cell_type": "code",
   "execution_count": 10,
   "id": "83809cc8",
   "metadata": {},
   "outputs": [
    {
     "name": "stdout",
     "output_type": "stream",
     "text": [
      "['Elton John & Dua Lipa', 'Adele', 'Gino Graus', 'Acraze', 'Jan Biggel', 'Rene Le Blanc', 'MEAU', 'OG3NE', 'Tiësto & Ava Max', 'Bolland & Bolland', 'Gebroeders Ko', 'OG3NE', 'Snollebollekes', 'Adele', 'Mariah Carey', 'Mart Hoogkamer', 'Gabry Ponte, LUM!X & Prezioso', 'FLEMMING', 'Jeffrey Heesen', 'Danny Froger & Wesley Klein', 'Evert Van Huygevoort', 'Lost Frequencies & Calum Scott', 'Adele', 'Django Wagner & Wolter Kroes', 'Coldplay X BTS', 'Helemaal Hollands', 'Adele', 'Tom Grennan', 'Tom Grennan', 'Yade Lauren', 'Bernd van den Bos', 'Adele', 'Duffy', 'Farruko', 'Ed Sheeran', 'Ed Sheeran', 'Swedish House Mafia & The Weeknd', 'Bob Offenberg', 'The Kid LAROI & Justin Bieber', 'Ed Sheeran', 'Lawineboys', 'Van Morrison', 'Martin Garrix', 'Dermot Kennedy', 'Purple Disco Machine', 'Adele', 'Rema', 'OBZ', 'Eddie Vedder', 'Adele', 'Vinzzent', 'Emmy Meli', 'Imagine Dragons, JID & League of Legends', 'M.I.K.E. Push', 'Gin Wigmore', 'Silversun Pickups', \"Dan Gibson's Solitudes\", 'Dimi Schoemaker', 'Samuel Kim', 'Atka', 'Rytmus & Viktor Sheen', 'Kakauko King', 'Jana Kirschner & Separ', 'Gleb', 'Jovita', 'Mhammed El Alami, Bigtopo, The Old Guard & Gid Sedgwick', 'Made of Light', 'Isadora Pompeo', 'Paul Denton', 'Ba$ha', 'Armin van Buuren & Rank 1', 'Old Dominion', 'Focus', 'Pırıl', 'Scarecrow Hill, Jared Gomes & Nikki Smalls', 'Danny Brendo', 'Jah Signal', 'Afrikan Beatz', 'Paulo Nazareth & Marcos Almeida', 'VGM Library', 'No 1 Left Standing', 'Tom Russell', 'Emily Wells', 'Thomas Mapfumo', 'Poet of Peace', 'Triggerfinger', 'Adele', 'Maaike Ouboter', 'Alexis Jordan', 'Adele', 'Shakira', 'Gers Pardoel', 'Gusttavo Lima', 'John Legend', 'Sandra van Nieuwland', 'Armin van Buuren', 'Stromae', 'P!nk', 'Nielson', 'Adele']\n"
     ]
    }
   ],
   "source": [
    "artist = []\n",
    "\n",
    "num_iter = len(soup.select('p > em'))\n",
    "\n",
    "for i in range(num_iter):\n",
    "    artist.append(soup.select('p > em')[i].get_text())\n",
    "    \n",
    "print(artist)\n",
    "\n",
    "top100_artist = pd.DataFrame({'artist':artist})"
   ]
  },
  {
   "cell_type": "code",
   "execution_count": 11,
   "id": "0f7d3c93",
   "metadata": {},
   "outputs": [],
   "source": [
    "top100 = pd.concat([top100_artist, top100_song], axis=1)"
   ]
  },
  {
   "cell_type": "code",
   "execution_count": 17,
   "id": "7e884864",
   "metadata": {},
   "outputs": [
    {
     "data": {
      "text/html": [
       "<div>\n",
       "<style scoped>\n",
       "    .dataframe tbody tr th:only-of-type {\n",
       "        vertical-align: middle;\n",
       "    }\n",
       "\n",
       "    .dataframe tbody tr th {\n",
       "        vertical-align: top;\n",
       "    }\n",
       "\n",
       "    .dataframe thead th {\n",
       "        text-align: right;\n",
       "    }\n",
       "</style>\n",
       "<table border=\"1\" class=\"dataframe\">\n",
       "  <thead>\n",
       "    <tr style=\"text-align: right;\">\n",
       "      <th></th>\n",
       "      <th>artist</th>\n",
       "      <th>song</th>\n",
       "    </tr>\n",
       "  </thead>\n",
       "  <tbody>\n",
       "    <tr>\n",
       "      <th>0</th>\n",
       "      <td>Elton John &amp; Dua Lipa</td>\n",
       "      <td>Cold Heart (PNAU Remix)</td>\n",
       "    </tr>\n",
       "    <tr>\n",
       "      <th>1</th>\n",
       "      <td>Adele</td>\n",
       "      <td>Easy On Me</td>\n",
       "    </tr>\n",
       "    <tr>\n",
       "      <th>2</th>\n",
       "      <td>Gino Graus</td>\n",
       "      <td>Schiddi Widdi Witt</td>\n",
       "    </tr>\n",
       "    <tr>\n",
       "      <th>3</th>\n",
       "      <td>Acraze</td>\n",
       "      <td>Do It To It (feat. Cherish)</td>\n",
       "    </tr>\n",
       "    <tr>\n",
       "      <th>4</th>\n",
       "      <td>Jan Biggel</td>\n",
       "      <td>Ons Moeder Zeej Nog</td>\n",
       "    </tr>\n",
       "  </tbody>\n",
       "</table>\n",
       "</div>"
      ],
      "text/plain": [
       "                  artist                         song\n",
       "0  Elton John & Dua Lipa      Cold Heart (PNAU Remix)\n",
       "1                  Adele                   Easy On Me\n",
       "2             Gino Graus           Schiddi Widdi Witt\n",
       "3                 Acraze  Do It To It (feat. Cherish)\n",
       "4             Jan Biggel          Ons Moeder Zeej Nog"
      ]
     },
     "execution_count": 17,
     "metadata": {},
     "output_type": "execute_result"
    }
   ],
   "source": [
    "top100.head()"
   ]
  },
  {
   "cell_type": "markdown",
   "id": "9e32d43c",
   "metadata": {},
   "source": [
    "## Song Recommender Part I"
   ]
  },
  {
   "cell_type": "code",
   "execution_count": null,
   "id": "64404233",
   "metadata": {},
   "outputs": [],
   "source": []
  },
  {
   "cell_type": "code",
   "execution_count": 45,
   "id": "3ac2c7d6",
   "metadata": {},
   "outputs": [
    {
     "name": "stdout",
     "output_type": "stream",
     "text": [
      "Please enter a song name: Easy On Me\n",
      "We recommend: The Haves by Eddie Vedder\n"
     ]
    }
   ],
   "source": [
    "song_choice = input('Please enter a song name: ')\n",
    "if top100.song.isin([song_choice]).any:\n",
    "    yoursong = top100.sample(n=1)\n",
    "    print('We recommend: ' + yoursong['song'].values[0] + ' by ' +  yoursong['artist'].values[0])\n",
    "else: \n",
    "    print('Sorry, no recommendation available')"
   ]
  },
  {
   "cell_type": "code",
   "execution_count": 46,
   "id": "391010aa",
   "metadata": {},
   "outputs": [
    {
     "name": "stdout",
     "output_type": "stream",
     "text": [
      "Please enter a song name: Easy On Me\n",
      "We recommend: 1 Rebel (feat. MC UD)\n"
     ]
    }
   ],
   "source": [
    "# Not the solution. Just did this to try the random.choice function\n",
    "song_choix = input('Please enter a song name: ')\n",
    "if top100.song.isin([song_choix]).any:\n",
    "    song = top100['song'].tolist()\n",
    "    artist = top100['artist'].tolist()\n",
    "    print('We recommend: ' + random.choice(song))\n",
    "else:\n",
    "    print('No No No')"
   ]
  },
  {
   "cell_type": "code",
   "execution_count": null,
   "id": "aed949cb",
   "metadata": {},
   "outputs": [],
   "source": []
  },
  {
   "cell_type": "code",
   "execution_count": null,
   "id": "f6cc8d4e",
   "metadata": {},
   "outputs": [],
   "source": []
  }
 ],
 "metadata": {
  "kernelspec": {
   "display_name": "Python 3",
   "language": "python",
   "name": "python3"
  },
  "language_info": {
   "codemirror_mode": {
    "name": "ipython",
    "version": 3
   },
   "file_extension": ".py",
   "mimetype": "text/x-python",
   "name": "python",
   "nbconvert_exporter": "python",
   "pygments_lexer": "ipython3",
   "version": "3.8.8"
  }
 },
 "nbformat": 4,
 "nbformat_minor": 5
}
